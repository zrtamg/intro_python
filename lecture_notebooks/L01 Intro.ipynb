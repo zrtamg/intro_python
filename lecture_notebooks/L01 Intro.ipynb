{
 "cells": [
  {
   "cell_type": "markdown",
   "metadata": {
    "id": "WXxpm3igiL4w",
    "slideshow": {
     "slide_type": "slide"
    }
   },
   "source": [
    "# Lecture 1 - Intro (https://bit.ly/intro_python_01)\n",
    "\n",
    "Today:\n",
    "\n",
    "* Course basics\n",
    "* Setting expectations about this course\n",
    "* What's a program?\n",
    "* Hello World!\n",
    "* Interpreted vs. compiled languages\n",
    "* Ways to run Python (notebooks, via the interactive console, via an editor (PyCharm))\n",
    "* Basic Input and Output\n",
    "* The debug loop\n",
    "* Comments\n",
    "* Basic types\n",
    "  * integers (ints)\n",
    "  * strings\n",
    "  * floating point numbers (floats)\n"
   ]
  },
  {
   "cell_type": "markdown",
   "metadata": {
    "id": "unlvFtJL6PVb",
    "slideshow": {
     "slide_type": "slide"
    }
   },
   "source": [
    "# Basics\n",
    "\n",
    "* About lecturers: \n",
    "    * Benedict Paten, bpaten@ucsc.edu, PSB-405E\n",
    "    * Tracy Larrabee, larrabee@ucsc.edu (other section)\n",
    "    * Larissa Munishkina, mlarissa@ucsc.edu (other section)\n",
    "    \n",
    "* Canvas:\n",
    "    * All the material is linked from Canvas\n",
    "        \n",
    "* Online text book: \n",
    "    * How to think like a computer scientist (free!): \n",
    "      * http://www.openbookproject.net/thinkcs/python/english3e/"
   ]
  },
  {
   "cell_type": "markdown",
   "metadata": {
    "id": "YEix8lIRG2u6",
    "slideshow": {
     "slide_type": "slide"
    }
   },
   "source": [
    "# Zybooks\n",
    "\n",
    "* \\$34.50, mandatory, lots of interactive exercises and training materials.\n",
    "    * Go to learn.zybooks.com\n",
    "    * enter zyBook code: UCSCCSE20Winter2021\n",
    "    \n",
    "    * Reading assignments: your first reading assignment is there now! \n",
    "        * reading assignments involve reading and participation challenges\n",
    "        * readings are due at 11:59pm the day before the next lecture\n",
    "        * there will be a reading assignment for every lecture\n",
    "        \n",
    "    * Programming assignments: \n",
    "        * \"micro assignments\", one per week\n",
    "        * released after the Thursday lecture, due the Friday a week later at 11:59pm\n",
    "    \n"
   ]
  },
  {
   "cell_type": "markdown",
   "metadata": {
    "slideshow": {
     "slide_type": "slide"
    }
   },
   "source": [
    "# Discord\n",
    "* https://discord.gg/bDtyhkPPCG\n",
    "* TAs and instructors will be on this Discord. \n",
    "* Don't post answers here\n",
    "* Please switch your name on the channel to your actual name. TAs and instructors will not answer questions unless you identify yourself.\n",
    "* Please don't make an unofficial discord - it definitely encourages cheating.\n",
    "* **Any cheating is going to get seriously punished in this class.**"
   ]
  },
  {
   "cell_type": "markdown",
   "metadata": {
    "id": "H4Hx5uypG9aO",
    "slideshow": {
     "slide_type": "slide"
    }
   },
   "source": [
    "# Grading\n",
    "\n",
    "* Lecture Challenges - 10%\n",
    "  * A canvas quiz will be opened during each lecture whose answers depend upon challenge questions presented during the lecture. You have until 11:59 pm on the day before the next lecture to complete the quiz. (This is to encourage regular attendance!)\n",
    "\n",
    "* Zybooks - 15%\n",
    "  * There is one reading to complete per class\n",
    "  * Each reading is worth an equal amount\n",
    "\n",
    "* Assignments - 25%:\n",
    "  * One per week, released on Thursday after lecture, due the Friday a week later at at 11:59pm.\n",
    "  * Each assignment is worth an equal amount\n",
    "\n",
    "* Exams:\n",
    "  * Midterm - 20%\n",
    "    * In class\n",
    "  * Final - 30%\n",
    "\n"
   ]
  },
  {
   "cell_type": "markdown",
   "metadata": {
    "slideshow": {
     "slide_type": "slide"
    }
   },
   "source": [
    "# Late policy\n",
    "\n",
    "* Strict but fair: Partial submissions are okay, but anything submitted after the deadline will get zero, unless you get an exemption from me for exceptional circumstances (e.g. medical reason with note, etc.).\n",
    "  "
   ]
  },
  {
   "cell_type": "markdown",
   "metadata": {
    "id": "y1cIFL7YSA7p",
    "slideshow": {
     "slide_type": "slide"
    }
   },
   "source": [
    "# Setting expectations\n",
    "  * This class will not teach computer engineering or electronics.\n",
    "  * This class is a first programming class, you'll be bored if you've already learned to program another language.\n",
    "  * Programming is everywhere, it is becoming *essential* as a basic skill in many fields. Even if you don't think you want to be a software engineer, it should allow you to use programming as a tool in **your existing and future work**, to tackle bigger problems, as well as automating mundane things.\n",
    "  * To use a bad analogy, if programming is painting, this class alone won't make you Picasso, but it will teach you how to redecorate a room and put you on a course towards mastery.\n",
    "\n"
   ]
  },
  {
   "cell_type": "markdown",
   "metadata": {
    "id": "vhNPyNOblB6b",
    "slideshow": {
     "slide_type": "slide"
    }
   },
   "source": [
    "# What's a program?\n",
    "\n",
    "**Class discussion:**\n",
    "\n",
    "1. What is a computer program?\n",
    "2. What is like a computer program?"
   ]
  },
  {
   "cell_type": "markdown",
   "metadata": {
    "slideshow": {
     "slide_type": "notes"
    }
   },
   "source": [
    "Notes for discussion \"What's a program\":\n",
    "\n",
    "What is a computer program?\n",
    "   * Input --> [ Computer Program ] --> Output\n",
    "\n",
    "What is like a computer program?\n",
    "   * Mathematical functions\n",
    "      * Domain --> [ function ] --> Range\n",
    "      * Mathematical functions do not need to specify how they are calculated\n",
    "   * Algorithm: A finite sequence of well-defined instructions, typically used to solve a class of specific problems or to perform a computation\n",
    "      * Think of an algorithm as a \"code recipe\" for performing a specific task\n",
    "   * A computer program is often composed of a series of algorithms, and like an algorithm is composed of sequences of machine readable instructions created by writing code. Here that code will be Python.\n",
    "        "
   ]
  },
  {
   "cell_type": "markdown",
   "metadata": {
    "id": "mY7WdWekSVvk",
    "slideshow": {
     "slide_type": "slide"
    }
   },
   "source": [
    "# The notes / slides for this class are programming notebooks:\n",
    "  * I think you can only learn programming by doing it.\n",
    "  \n",
    "    * **Jupyter** Each of these lectures is a Jupyter (aka IPython) notebook\n",
    "         * this one is here: https://bit.ly/intro_python_01\n",
    "            \n",
    "         * **Interactive** The notebooks make it easy to poke around with the examples, these notebooks are also great way to do basic exploratory analysis. They allow you to combine text and code in a natural way.\n",
    "    \n",
    "    * **Collaboratory** Jupyter notebooks can be edited and run in your web browser using Google Colaboratory \n",
    "         * https://colab.research.google.com\n",
    "         * Paste https://github.com/benedictpaten/intro_python into the GitHub tab (Note: do demo)\n",
    "     \n",
    "    * **On your computer**, you can run the notebook using (free) Jupyter software on your computer (https://jupyter.org/). You can download all the notebooks from the Github: https://github.com/benedictpaten/intro_python \n",
    "    "
   ]
  },
  {
   "cell_type": "markdown",
   "metadata": {
    "slideshow": {
     "slide_type": "slide"
    }
   },
   "source": [
    "# Improve These Lectures and Notes - Extra Credit Available\n",
    "\n",
    "* I will award extra credit equal to 1% of the grade for the class for each improvement contributed to these lecture notes, which are always a work in progress. \n",
    "\n",
    "* I will accept improvements at my discretion, but will consider typo fixes, improvements to code examples and exposition, and additional content such as examples - basically anything that improves these notes.\n",
    "\n",
    "* To make an improvement, make a pull request (PR) to the GitHub https://github.com/benedictpaten/intro_python (see: https://docs.github.com/en/pull-requests/collaborating-with-pull-requests/proposing-changes-to-your-work-with-pull-requests/about-pull-requests). \n",
    "    * Each PR is equal to one improvement. \n",
    "    * I will only take one improvement/PR per lecture, per student. \n",
    "    * Students will be responsible for resolving merge conflicts in their PRs.\n",
    "    * Note, we don't have time to cover GitHub here, so this will be self-directed. "
   ]
  },
  {
   "cell_type": "markdown",
   "metadata": {
    "slideshow": {
     "slide_type": "slide"
    }
   },
   "source": [
    "# The notes / slides and Zybooks:\n",
    "* **Not complete** These lecture notes do not cover everything in the Zybooks text book. They are really supposed to be an interactive exploration of some of the key ideas. \n",
    "* **Zybooks** Zybooks provides interactive exercises and is more comprehensive than these notebooks. I have tried to align the notebooks with the Zybooks chapters as much as possible. "
   ]
  },
  {
   "cell_type": "markdown",
   "metadata": {
    "id": "PPeHeGQ4X3-w",
    "slideshow": {
     "slide_type": "slide"
    }
   },
   "source": [
    "# Hello, world\n",
    "\n",
    "**Okay, let's write our first program...**"
   ]
  },
  {
   "cell_type": "code",
   "execution_count": 3,
   "metadata": {
    "colab": {
     "base_uri": "https://localhost:8080/"
    },
    "executionInfo": {
     "elapsed": 348,
     "status": "ok",
     "timestamp": 1609893292341,
     "user": {
      "displayName": "Benedict Paten",
      "photoUrl": "https://lh3.googleusercontent.com/a-/AOh14Gh2rYrrH6yoNnUp0Oj4p4ouybc6ZcWGyPmKFtIY=s64",
      "userId": "06399644931392855882"
     },
     "user_tz": 480
    },
    "id": "6_f_aG23rcN2",
    "outputId": "5ae94874-0281-4168-aeaa-240973f7be50",
    "slideshow": {
     "slide_type": "fragment"
    }
   },
   "outputs": [
    {
     "name": "stdout",
     "output_type": "stream",
     "text": [
      "Hello, world!\n"
     ]
    }
   ],
   "source": [
    "# Hello world program - this is a comment \n",
    "# (it's just to make the code readable)\n",
    "\n",
    "# Go ahead and run this by hitting the run button\n",
    "print(\"Hello, world!\") "
   ]
  },
  {
   "cell_type": "markdown",
   "metadata": {
    "slideshow": {
     "slide_type": "slide"
    }
   },
   "source": [
    "# Challenge 1"
   ]
  },
  {
   "cell_type": "code",
   "execution_count": null,
   "metadata": {
    "slideshow": {
     "slide_type": "fragment"
    }
   },
   "outputs": [],
   "source": [
    "# Print the words: My first program"
   ]
  },
  {
   "cell_type": "markdown",
   "metadata": {
    "id": "EqbOD-FoYffN",
    "slideshow": {
     "slide_type": "slide"
    }
   },
   "source": [
    "# A Bigger Example\n",
    "\n",
    "**Now let's look at a more general program...**\n",
    "\n",
    "(Don't worry if this is all a bit cryptic right now, we'll explain all the bits over the course of these lectures.) "
   ]
  },
  {
   "cell_type": "code",
   "execution_count": 4,
   "metadata": {
    "colab": {
     "base_uri": "https://localhost:8080/"
    },
    "executionInfo": {
     "elapsed": 8052,
     "status": "ok",
     "timestamp": 1607390613099,
     "user": {
      "displayName": "Benedict Paten",
      "photoUrl": "https://lh3.googleusercontent.com/a-/AOh14Gh2rYrrH6yoNnUp0Oj4p4ouybc6ZcWGyPmKFtIY=s64",
      "userId": "06399644931392855882"
     },
     "user_tz": 480
    },
    "id": "3qlDx_KihlqE",
    "outputId": "3a325b14-7f46-490d-cf0e-2e2e46725103",
    "slideshow": {
     "slide_type": "fragment"
    }
   },
   "outputs": [
    {
     "name": "stdout",
     "output_type": "stream",
     "text": [
      "Please enter a number: 5\n",
      "Please enter another number: 7\n",
      "The sum of your two inputs is: 12.0\n"
     ]
    }
   ],
   "source": [
    "## A basic program\n",
    "\n",
    "# Inputs - let's ask the user to input two numbers and \n",
    "# call them x and y (x and y are called variables)\n",
    "x = float(input(\"Please enter a number: \"))\n",
    "y = float(input(\"Please enter another number: \"))\n",
    "\n",
    "# Doing stuff\n",
    "\n",
    "z = x + y # Add the inputs together\n",
    "\n",
    "# Outputs\n",
    "# Let's print the result\n",
    "print(\"The sum of your two inputs is:\", z)"
   ]
  },
  {
   "cell_type": "markdown",
   "metadata": {
    "slideshow": {
     "slide_type": "subslide"
    }
   },
   "source": [
    "# Challenge 2"
   ]
  },
  {
   "cell_type": "code",
   "execution_count": null,
   "metadata": {
    "slideshow": {
     "slide_type": "fragment"
    }
   },
   "outputs": [],
   "source": [
    "# Adapt the above program to print the product of x and y. (you can write your code here)"
   ]
  },
  {
   "cell_type": "markdown",
   "metadata": {
    "id": "D7AjaHYxTvMZ",
    "slideshow": {
     "slide_type": "slide"
    }
   },
   "source": [
    "# Interpreted vs. Compiled Languages\n",
    "\n",
    "* Python is (basically) an interpreted language:\n",
    "  * Interpreted languages are generally read line-by-line and executed line-by-line.\n",
    "  * This allows you to use Python interactively (see below)\n",
    "  * You can also get the interpreter to use files, which is much better when you want to save your work.\n",
    "\n",
    "* Other languages, e.g. C, Java, etc. are *compiled*:\n",
    "   * The code is read in its entirety before it is executed.\n",
    "   * There are speed (optimization) and error checking benefits to this approach (can catch an error at the end of your program before executing any of it).\n",
    "   * But, more complex, and generally no interactive execution."
   ]
  },
  {
   "cell_type": "markdown",
   "metadata": {
    "id": "aMiebmkv8WhX",
    "slideshow": {
     "slide_type": "slide"
    }
   },
   "source": [
    "# Ways to run Python\n",
    "\n",
    "* Directly from your web browser using an iPython notebooks (like this one!)\n",
    "* Interatively via interpreter (LIVE DEMO)\n",
    "* Via a dev environment (LIVE Pycharm DEMO)"
   ]
  },
  {
   "cell_type": "markdown",
   "metadata": {
    "id": "r0J1gm9NBqR2",
    "slideshow": {
     "slide_type": "slide"
    }
   },
   "source": [
    "# Basic Input and output"
   ]
  },
  {
   "cell_type": "code",
   "execution_count": 5,
   "metadata": {
    "colab": {
     "base_uri": "https://localhost:8080/"
    },
    "executionInfo": {
     "elapsed": 3514,
     "status": "ok",
     "timestamp": 1607390628419,
     "user": {
      "displayName": "Benedict Paten",
      "photoUrl": "https://lh3.googleusercontent.com/a-/AOh14Gh2rYrrH6yoNnUp0Oj4p4ouybc6ZcWGyPmKFtIY=s64",
      "userId": "06399644931392855882"
     },
     "user_tz": 480
    },
    "id": "S75-wdbs6bwI",
    "outputId": "a5402563-410b-424b-d9d9-0f2cb8c587a9",
    "slideshow": {
     "slide_type": "fragment"
    }
   },
   "outputs": [
    {
     "name": "stdout",
     "output_type": "stream",
     "text": [
      "What's your name? Ben\n"
     ]
    }
   ],
   "source": [
    "x = input(\"What's your name? \") # Input can be be used to gather input from a user.\n",
    "# Later we'll see ways of getting other kinds of input, like reading from files, but for\n",
    "# now just know that input reads text from the user"
   ]
  },
  {
   "cell_type": "code",
   "execution_count": null,
   "metadata": {
    "colab": {
     "base_uri": "https://localhost:8080/"
    },
    "executionInfo": {
     "elapsed": 540,
     "status": "ok",
     "timestamp": 1607390630359,
     "user": {
      "displayName": "Benedict Paten",
      "photoUrl": "https://lh3.googleusercontent.com/a-/AOh14Gh2rYrrH6yoNnUp0Oj4p4ouybc6ZcWGyPmKFtIY=s64",
      "userId": "06399644931392855882"
     },
     "user_tz": 480
    },
    "id": "Sywp442762ro",
    "outputId": "01e46ff1-2ba4-4eee-8871-a27df154c4be",
    "slideshow": {
     "slide_type": "fragment"
    }
   },
   "outputs": [
    {
     "name": "stdout",
     "output_type": "stream",
     "text": [
      "Your name is Ben\n"
     ]
    }
   ],
   "source": [
    "# We can print the users input\n",
    "print(\"Your name is\", x) # Print is a way of outputting formatted text to the string. \n",
    "# here x acts as a \"variable\" to represent the text that input gathered"
   ]
  },
  {
   "cell_type": "markdown",
   "metadata": {
    "id": "LqeIGW5ki_To",
    "slideshow": {
     "slide_type": "slide"
    }
   },
   "source": [
    "# Debugging"
   ]
  },
  {
   "cell_type": "code",
   "execution_count": 7,
   "metadata": {
    "colab": {
     "base_uri": "https://localhost:8080/",
     "height": 201
    },
    "executionInfo": {
     "elapsed": 401,
     "status": "error",
     "timestamp": 1609892004205,
     "user": {
      "displayName": "Benedict Paten",
      "photoUrl": "https://lh3.googleusercontent.com/a-/AOh14Gh2rYrrH6yoNnUp0Oj4p4ouybc6ZcWGyPmKFtIY=s64",
      "userId": "06399644931392855882"
     },
     "user_tz": 480
    },
    "id": "9tiukjkD2bc4",
    "outputId": "9aeb7b20-9300-4039-d27a-d39b38f90207",
    "slideshow": {
     "slide_type": "fragment"
    }
   },
   "outputs": [
    {
     "ename": "AssertionError",
     "evalue": "",
     "output_type": "error",
     "traceback": [
      "\u001B[0;31m---------------------------------------------------------------------------\u001B[0m",
      "\u001B[0;31mAssertionError\u001B[0m                            Traceback (most recent call last)",
      "\u001B[0;32m/var/folders/ft/hp0lkfys73s96bby40t4tnnr0000gn/T/ipykernel_21544/3183315843.py\u001B[0m in \u001B[0;36m<module>\u001B[0;34m\u001B[0m\n\u001B[1;32m     10\u001B[0m \u001B[0;31m## Let's try an assert - a check you can put in your code to establish that something\u001B[0m\u001B[0;34m\u001B[0m\u001B[0;34m\u001B[0m\u001B[0;34m\u001B[0m\u001B[0m\n\u001B[1;32m     11\u001B[0m \u001B[0;31m## is the way you think it should be\u001B[0m\u001B[0;34m\u001B[0m\u001B[0;34m\u001B[0m\u001B[0;34m\u001B[0m\u001B[0m\n\u001B[0;32m---> 12\u001B[0;31m \u001B[0;32massert\u001B[0m \u001B[0mx\u001B[0m \u001B[0;34m+\u001B[0m \u001B[0my\u001B[0m \u001B[0;34m==\u001B[0m \u001B[0;36m4\u001B[0m\u001B[0;34m\u001B[0m\u001B[0;34m\u001B[0m\u001B[0m\n\u001B[0m",
      "\u001B[0;31mAssertionError\u001B[0m: "
     ]
    }
   ],
   "source": [
    "## Our first debugging session!\n",
    "\n",
    "# Warning - most computer programming is debugging!\n",
    "# IMO, it is the process of taking an idea and refining it\n",
    "# into a precise, working program\n",
    "\n",
    "x = 1\n",
    "y = 2\n",
    "\n",
    "## Let's try an assert - a check you can put in your code to establish that something\n",
    "## is the way you think it should be\n",
    "assert x + y == 4"
   ]
  },
  {
   "cell_type": "markdown",
   "metadata": {
    "id": "2WKWm5BfeTOJ",
    "slideshow": {
     "slide_type": "slide"
    }
   },
   "source": [
    "# Comments"
   ]
  },
  {
   "cell_type": "code",
   "execution_count": null,
   "metadata": {
    "id": "ehNt7A36eXOu",
    "slideshow": {
     "slide_type": "fragment"
    }
   },
   "outputs": [],
   "source": [
    "# This is a comment\n",
    "\n",
    "# Code can be hard to read, and yet you \n",
    "# often have to edit and maintain code over time.\n",
    "\n",
    "# Comments let you keep notes in your code.\n",
    "\n",
    "# Rule of thumb: Good code is often about 50% code and 50% comments\n",
    "\n",
    "# It is amazing to read code you wrote last year - you\n",
    "# likely won't remember how it works without comments!\n",
    "\n",
    "# Because some text editors don't automatically line-wrap it is a good idea to try to keep your comments to less than 80 or so characters by spreading them across multiple lines. \n",
    "\n",
    "# Later on, we'll see comment strings, which are another way\n",
    "# of documenting code.\n"
   ]
  },
  {
   "cell_type": "markdown",
   "metadata": {
    "id": "W1wzHe1W9-Jf",
    "slideshow": {
     "slide_type": "slide"
    }
   },
   "source": [
    "# Basic Types"
   ]
  },
  {
   "cell_type": "code",
   "execution_count": null,
   "metadata": {
    "colab": {
     "base_uri": "https://localhost:8080/"
    },
    "executionInfo": {
     "elapsed": 478,
     "status": "ok",
     "timestamp": 1607390644790,
     "user": {
      "displayName": "Benedict Paten",
      "photoUrl": "https://lh3.googleusercontent.com/a-/AOh14Gh2rYrrH6yoNnUp0Oj4p4ouybc6ZcWGyPmKFtIY=s64",
      "userId": "06399644931392855882"
     },
     "user_tz": 480
    },
    "id": "-wi-i7VrGc8P",
    "outputId": "39c4bd73-4bc3-49f5-c938-10551901cdb1",
    "slideshow": {
     "slide_type": "fragment"
    }
   },
   "outputs": [
    {
     "data": {
      "text/plain": [
       "int"
      ]
     },
     "execution_count": 8,
     "metadata": {
      "tags": []
     },
     "output_type": "execute_result"
    }
   ],
   "source": [
    "# What's the \"type\" of 1?\n",
    "\n",
    "# For now, just understand that we can use type() \n",
    "# to find out the 'type' of any object in Python\n",
    "\n",
    "type(1)"
   ]
  },
  {
   "cell_type": "code",
   "execution_count": null,
   "metadata": {
    "colab": {
     "base_uri": "https://localhost:8080/"
    },
    "executionInfo": {
     "elapsed": 459,
     "status": "ok",
     "timestamp": 1607390648494,
     "user": {
      "displayName": "Benedict Paten",
      "photoUrl": "https://lh3.googleusercontent.com/a-/AOh14Gh2rYrrH6yoNnUp0Oj4p4ouybc6ZcWGyPmKFtIY=s64",
      "userId": "06399644931392855882"
     },
     "user_tz": 480
    },
    "id": "FmtofQdU8JBs",
    "outputId": "4510b6aa-ce6f-4fcc-e38d-90a33c83e180",
    "slideshow": {
     "slide_type": "fragment"
    }
   },
   "outputs": [
    {
     "data": {
      "text/plain": [
       "int"
      ]
     },
     "execution_count": 9,
     "metadata": {
      "tags": []
     },
     "output_type": "execute_result"
    }
   ],
   "source": [
    "# Similarly, 5 is an integer (called an 'int')\n",
    "type(5)"
   ]
  },
  {
   "cell_type": "code",
   "execution_count": null,
   "metadata": {
    "colab": {
     "base_uri": "https://localhost:8080/"
    },
    "executionInfo": {
     "elapsed": 806,
     "status": "ok",
     "timestamp": 1607390649954,
     "user": {
      "displayName": "Benedict Paten",
      "photoUrl": "https://lh3.googleusercontent.com/a-/AOh14Gh2rYrrH6yoNnUp0Oj4p4ouybc6ZcWGyPmKFtIY=s64",
      "userId": "06399644931392855882"
     },
     "user_tz": 480
    },
    "id": "lwV0g90f8Kwl",
    "outputId": "6fae4488-8380-41dc-b977-196473db5d6f",
    "slideshow": {
     "slide_type": "fragment"
    }
   },
   "outputs": [
    {
     "data": {
      "text/plain": [
       "float"
      ]
     },
     "execution_count": 10,
     "metadata": {
      "tags": []
     },
     "output_type": "execute_result"
    }
   ],
   "source": [
    "# Okay, so what's the type of a decimal?\n",
    "type(3.142)"
   ]
  },
  {
   "cell_type": "code",
   "execution_count": null,
   "metadata": {
    "colab": {
     "base_uri": "https://localhost:8080/"
    },
    "executionInfo": {
     "elapsed": 502,
     "status": "ok",
     "timestamp": 1607390651654,
     "user": {
      "displayName": "Benedict Paten",
      "photoUrl": "https://lh3.googleusercontent.com/a-/AOh14Gh2rYrrH6yoNnUp0Oj4p4ouybc6ZcWGyPmKFtIY=s64",
      "userId": "06399644931392855882"
     },
     "user_tz": 480
    },
    "id": "v-0-HmvB85aI",
    "outputId": "01407285-ff2d-48f6-a58f-68c51408317c",
    "slideshow": {
     "slide_type": "fragment"
    }
   },
   "outputs": [
    {
     "data": {
      "text/plain": [
       "float"
      ]
     },
     "execution_count": 11,
     "metadata": {
      "tags": []
     },
     "output_type": "execute_result"
    }
   ],
   "source": [
    "# And the type of 1.0? \n",
    "# (there is no room for indecision/ambiguity in a programming language)\n",
    "type(1.0)"
   ]
  },
  {
   "cell_type": "markdown",
   "metadata": {
    "id": "yReid9RY9dPG",
    "slideshow": {
     "slide_type": "slide"
    }
   },
   "source": [
    "* Under the hood, Python is storing ints using a different format of bits (zeroes and ones), because floating point math (floats) have different representational requirements to integers (ints). \n",
    "  * (Note: Brief, incomplete aside on binary representation on board)\n",
    "* In general, a type is a formatting of bits to represent the given information. \n",
    "* Types impose constraints, e.g. ints are whole numbers only\n",
    "* All objects (things) in Python have a type, and when we define our own objects, we'll define our own types.\n"
   ]
  },
  {
   "cell_type": "code",
   "execution_count": 1,
   "metadata": {
    "colab": {
     "base_uri": "https://localhost:8080/"
    },
    "executionInfo": {
     "elapsed": 529,
     "status": "ok",
     "timestamp": 1607390654537,
     "user": {
      "displayName": "Benedict Paten",
      "photoUrl": "https://lh3.googleusercontent.com/a-/AOh14Gh2rYrrH6yoNnUp0Oj4p4ouybc6ZcWGyPmKFtIY=s64",
      "userId": "06399644931392855882"
     },
     "user_tz": 480
    },
    "id": "65pK6WKbGc8i",
    "outputId": "1549ea7b-42e8-4d6d-9357-043d4f5e5af1",
    "slideshow": {
     "slide_type": "subslide"
    }
   },
   "outputs": [
    {
     "data": {
      "text/plain": [
       "str"
      ]
     },
     "execution_count": 1,
     "metadata": {},
     "output_type": "execute_result"
    }
   ],
   "source": [
    "# What about text?\n",
    "type(\"hello\")"
   ]
  },
  {
   "cell_type": "markdown",
   "metadata": {
    "slideshow": {
     "slide_type": "subslide"
    }
   },
   "source": [
    "# Challenge 3"
   ]
  },
  {
   "cell_type": "code",
   "execution_count": null,
   "metadata": {
    "slideshow": {
     "slide_type": "fragment"
    }
   },
   "outputs": [],
   "source": [
    "# Find out the type of x\n",
    "x = [ 1, 2, 3 ]"
   ]
  },
  {
   "cell_type": "markdown",
   "metadata": {
    "id": "Fvk23hnO6oXj",
    "slideshow": {
     "slide_type": "slide"
    }
   },
   "source": [
    "# Homework:\n",
    "\n",
    "* Go to Canvas and complete the first lecture quiz, which involves completing each challenge problem\n",
    "* See \"Reading 1\" in Zybooks, available now due by 11:59pm on Wednesday\n",
    "\n",
    "\n",
    "# Reading:\n",
    "\n",
    "* Chapter 1 : (http://openbookproject.net/thinkcs/python/english3e/way_of_the_program.html)\n",
    "\n"
   ]
  }
 ],
 "metadata": {
  "celltoolbar": "Slideshow",
  "colab": {
   "collapsed_sections": [],
   "name": "L01 Intro.ipynb",
   "provenance": []
  },
  "kernelspec": {
   "display_name": "Python 3 (ipykernel)",
   "language": "python",
   "name": "python3"
  },
  "language_info": {
   "codemirror_mode": {
    "name": "ipython",
    "version": 3
   },
   "file_extension": ".py",
   "mimetype": "text/x-python",
   "name": "python",
   "nbconvert_exporter": "python",
   "pygments_lexer": "ipython3",
   "version": "3.8.9"
  }
 },
 "nbformat": 4,
 "nbformat_minor": 1
}
